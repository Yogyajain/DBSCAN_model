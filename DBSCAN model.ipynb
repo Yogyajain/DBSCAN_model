{
  "nbformat": 4,
  "nbformat_minor": 0,
  "metadata": {
    "colab": {
      "provenance": []
    },
    "kernelspec": {
      "name": "python3",
      "display_name": "Python 3"
    },
    "language_info": {
      "name": "python"
    }
  },
  "cells": [
    {
      "cell_type": "code",
      "execution_count": 1,
      "metadata": {
        "id": "CK0TwNEXwrrv"
      },
      "outputs": [],
      "source": [
        "import numpy as np"
      ]
    },
    {
      "cell_type": "code",
      "source": [
        "\n",
        "\n",
        "#this function will take one point and find all the neighbors near it with range of eps\n",
        "def regional_neighbors(data,point_idx,eps):\n",
        "  neighbors=[]\n",
        "  for i in range(len(data)):\n",
        "    #distance between 2 points using euclidien distance\n",
        "    d=np.linalg.norm(data[point_idx]-data[i])\n",
        "    if d <=eps:\n",
        "      neighbors.append(i)\n",
        "  return neighbors\n",
        "\n",
        "# it adds the all neighbors to its cluster\n",
        "def expand_cluster(data,point_idx,neighbors,cluster,eps,unvisited):\n",
        "  cluster.append(point_idx)\n",
        "  i=0\n",
        "  while i<len(neighbors):\n",
        "    neighbor=neighbors[i]\n",
        "    if neighbor in unvisited:\n",
        "      #making the points to be visited by removing fdrom the unvisited\n",
        "      unvisited.remove(neighbor)\n",
        "      #now checking the neighbors f the neighbor\n",
        "      neighbor_neighbors=regional_neighbors(data,neighbor,eps)\n",
        "      #checking whether they are in core point criteria\n",
        "      if len(neighbor_neighbors) >= min_pts:\n",
        "        neighbors.extend(neighbor_neighbors)\n",
        "      #adding all the neighborsto the cluster\n",
        "    if neighbor not in cluster:\n",
        "      cluster.append(neighbor)\n",
        "    i+=1\n",
        "  return  cluster\n",
        "\n",
        "def dbscan(data,eps,min_pts):\n",
        "  #initialize all points as unvisited\n",
        "  unvisited=set(range(len(data)))\n",
        "  clusters=[]\n",
        "  noise=[]\n",
        "\n",
        "  while unvisited:\n",
        "    point_idx = unvisited.pop()\n",
        "    neighbors = regional_neighbors(data,point_idx,eps)\n",
        "\n",
        "    if len(neighbors)<min_pts:\n",
        "      noise.append(neighbors)\n",
        "    else:\n",
        "      new_cluster=expand_cluster(data,point_idx,neighbors,[],eps,unvisited)\n",
        "      clusters.append(new_cluster)\n",
        "  return clusters, noise\n",
        "\n"
      ],
      "metadata": {
        "id": "QmRHBCfCw9Yi"
      },
      "execution_count": 2,
      "outputs": []
    },
    {
      "cell_type": "code",
      "source": [
        "import numpy as np\n",
        "\n",
        "# Generate 10,000 random points in 2D space\n",
        "num_points = 10000\n",
        "data = np.random.rand(num_points, 2)\n",
        "\n",
        "# Parameters for DBSCAN\n",
        "eps = 0.1  # Adjust as needed based on your data distribution\n",
        "min_pts = 5  # Adjust as needed based on your data density\n",
        "\n",
        "# Run DBSCAN\n",
        "clusters, noise = dbscan(data, eps, min_pts)\n",
        "\n",
        "# Print the results\n",
        "print(\"Number of clusters:\", len(clusters))\n",
        "print(\"Noise points:\", len(noise))\n"
      ],
      "metadata": {
        "id": "81K-WxulDS61"
      },
      "execution_count": null,
      "outputs": []
    },
    {
      "cell_type": "code",
      "source": [],
      "metadata": {
        "id": "eCm5CB7XH7bq"
      },
      "execution_count": null,
      "outputs": []
    }
  ]
}